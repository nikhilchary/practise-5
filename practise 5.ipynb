{
 "cells": [
  {
   "cell_type": "markdown",
   "metadata": {},
   "source": [
    "Question 1: Create a 4X2 integer array and Prints its attributes"
   ]
  },
  {
   "cell_type": "code",
   "execution_count": 33,
   "metadata": {},
   "outputs": [
    {
     "name": "stdout",
     "output_type": "stream",
     "text": [
      "printing array\n",
      "[[40880 25880]\n",
      " [  657     0]\n",
      " [    0     0]\n",
      " [    0     0]]\n",
      "Printing numpy array Attributes\n",
      "1> Array Shape is:  (4, 2)\n",
      "2>. Array dimensions are  2\n",
      "3>. Length of each element of array in bytes is  2\n"
     ]
    }
   ],
   "source": [
    "import numpy as np\n",
    "frstarray=np.empty([4,2],dtype=np.uint16)\n",
    "print('printing array')\n",
    "print(frstarray)\n",
    "print(\"Printing numpy array Attributes\")\n",
    "print(\"1> Array Shape is: \", firstArray.shape)\n",
    "print(\"2>. Array dimensions are \", firstArray.ndim)\n",
    "print(\"3>. Length of each element of array in bytes is \", firstArray.itemsize)\n"
   ]
  },
  {
   "cell_type": "code",
   "execution_count": null,
   "metadata": {},
   "outputs": [],
   "source": [
    "\n"
   ]
  },
  {
   "cell_type": "markdown",
   "metadata": {},
   "source": [
    "Question 2: Create a 5X2 integer array from a range between 100 to 200 such that the difference between each element is 10"
   ]
  },
  {
   "cell_type": "code",
   "execution_count": 43,
   "metadata": {},
   "outputs": [
    {
     "data": {
      "text/plain": [
       "array([[100, 110],\n",
       "       [120, 130],\n",
       "       [140, 150],\n",
       "       [160, 170],\n",
       "       [180, 190]])"
      ]
     },
     "execution_count": 43,
     "metadata": {},
     "output_type": "execute_result"
    }
   ],
   "source": [
    "frstarray1=np.arange(100,200,10)\n",
    "samplearray=frstarray1.reshape(5,2)\n",
    "samplearray\n"
   ]
  },
  {
   "cell_type": "code",
   "execution_count": null,
   "metadata": {},
   "outputs": [],
   "source": []
  },
  {
   "cell_type": "markdown",
   "metadata": {},
   "source": [
    "Question 3: Following is the provided numPy array. return array of items in the third column from all rows"
   ]
  },
  {
   "cell_type": "code",
   "execution_count": 67,
   "metadata": {},
   "outputs": [
    {
     "name": "stdout",
     "output_type": "stream",
     "text": [
      "[[11 22 33]\n",
      " [44 55 66]\n",
      " [77 88 99]]\n",
      "second column is [22 55 88]\n"
     ]
    }
   ],
   "source": [
    "samplearray = np.array([[11 ,22, 33], [44, 55, 66], [77, 88, 99]])\n",
    "w=samplearray.reshape(3,3)\n",
    "print(w)\n",
    "w1=w[...,1]\n",
    "print('second column is', w1)"
   ]
  },
  {
   "cell_type": "code",
   "execution_count": null,
   "metadata": {},
   "outputs": [],
   "source": []
  },
  {
   "cell_type": "markdown",
   "metadata": {},
   "source": [
    "Question 4: Following is the given numpy array return array of odd rows and even columns"
   ]
  },
  {
   "cell_type": "code",
   "execution_count": 71,
   "metadata": {},
   "outputs": [
    {
     "name": "stdout",
     "output_type": "stream",
     "text": [
      "[[ 3  6  9 12]\n",
      " [15 18 21 24]\n",
      " [27 30 33 36]\n",
      " [39 42 45 48]\n",
      " [51 54 57 60]]\n",
      "odd rows and even columns\n",
      "[[ 6 12]\n",
      " [30 36]\n",
      " [54 60]]\n"
     ]
    }
   ],
   "source": [
    "import numpy\n",
    "samplearray = numpy.array([[3 ,6, 9, 12], [15 ,18, 21, 24], \n",
    "[27 ,30, 33, 36], [39 ,42, 45, 48], [51 ,54, 57, 60]])\n",
    "w=samplearray.reshape(5,4)\n",
    "print(w)\n",
    "w1=w[::2,1::2]\n",
    "print('odd rows and even columns')\n",
    "print(w1)"
   ]
  },
  {
   "cell_type": "code",
   "execution_count": null,
   "metadata": {},
   "outputs": [],
   "source": []
  },
  {
   "cell_type": "markdown",
   "metadata": {},
   "source": [
    "Question 5: Add the following two NumPy arrays and Modify a result array by calculating the square root of each element"
   ]
  },
  {
   "cell_type": "code",
   "execution_count": 78,
   "metadata": {},
   "outputs": [
    {
     "name": "stdout",
     "output_type": "stream",
     "text": [
      "[[20 39 33]\n",
      " [25 25 28]]\n",
      "square root\n",
      "[[ 400 1521 1089]\n",
      " [ 625  625  784]]\n"
     ]
    }
   ],
   "source": [
    "import numpy\n",
    "\n",
    "arrayone = numpy.array([[5, 6, 9], [21 ,18, 27]])\n",
    "arraytwo = numpy.array([[15 ,33, 24], [4 ,7, 1]])\n",
    "w=arrayone+arraytwo\n",
    "print(w)\n",
    "print('square root')\n",
    "w1=w**2\n",
    "print(w1)\n"
   ]
  },
  {
   "cell_type": "code",
   "execution_count": null,
   "metadata": {},
   "outputs": [],
   "source": []
  },
  {
   "cell_type": "markdown",
   "metadata": {},
   "source": [
    "Question 6: Split the array into four equal-sized sub-arrays"
   ]
  },
  {
   "cell_type": "code",
   "execution_count": 80,
   "metadata": {},
   "outputs": [
    {
     "name": "stdout",
     "output_type": "stream",
     "text": [
      "Creating 8X3 array using numpy.arange\n",
      "[[10 11 12]\n",
      " [13 14 15]\n",
      " [16 17 18]\n",
      " [19 20 21]\n",
      " [22 23 24]\n",
      " [25 26 27]\n",
      " [28 29 30]\n",
      " [31 32 33]]\n",
      "\n",
      "Dividing 8X3 array into 4 sub array\n",
      "\n",
      "[array([[10, 11, 12],\n",
      "       [13, 14, 15]]), array([[16, 17, 18],\n",
      "       [19, 20, 21]]), array([[22, 23, 24],\n",
      "       [25, 26, 27]]), array([[28, 29, 30],\n",
      "       [31, 32, 33]])]\n"
     ]
    }
   ],
   "source": [
    "print(\"Creating 8X3 array using numpy.arange\")\n",
    "sampleArray = numpy.arange(10, 34, 1)\n",
    "sampleArray = sampleArray.reshape(8,3)\n",
    "print (sampleArray)\n",
    "print(\"\\nDividing 8X3 array into 4 sub array\\n\")\n",
    "subArrays = numpy.split(sampleArray, 4) \n",
    "print(subArrays)\n"
   ]
  },
  {
   "cell_type": "code",
   "execution_count": null,
   "metadata": {},
   "outputs": [],
   "source": []
  },
  {
   "cell_type": "markdown",
   "metadata": {},
   "source": [
    "Question 7; Sort following NumPy array"
   ]
  },
  {
   "cell_type": "code",
   "execution_count": null,
   "metadata": {},
   "outputs": [],
   "source": []
  },
  {
   "cell_type": "code",
   "execution_count": 1,
   "metadata": {},
   "outputs": [
    {
     "name": "stdout",
     "output_type": "stream",
     "text": [
      "Printing Original array\n",
      "[[34 43 73]\n",
      " [82 22 12]\n",
      " [53 94 66]]\n",
      "Sorting Original array by secoond row\n",
      "[[73 43 34]\n",
      " [12 22 82]\n",
      " [66 94 53]]\n",
      "Sorting Original array by secoond column\n",
      "[[82 22 12]\n",
      " [34 43 73]\n",
      " [53 94 66]]\n"
     ]
    }
   ],
   "source": [
    "import numpy\n",
    "\n",
    "print(\"Printing Original array\")\n",
    "sampleArray = numpy.array([[34,43,73],[82,22,12],[53,94,66]]) \n",
    "print (sampleArray)\n",
    "\n",
    "sortArrayByRow = sampleArray[:,sampleArray[1,:].argsort()]\n",
    "print(\"Sorting Original array by secoond row\")\n",
    "print(sortArrayByRow)\n",
    "\n",
    "print(\"Sorting Original array by secoond column\")\n",
    "sortArrayByColumn = sampleArray[sampleArray[:,1].argsort()]\n",
    "print(sortArrayByColumn)"
   ]
  },
  {
   "cell_type": "code",
   "execution_count": null,
   "metadata": {},
   "outputs": [],
   "source": []
  },
  {
   "cell_type": "markdown",
   "metadata": {},
   "source": [
    "Question 8: Following is the 2-D array. Print max from axis 0 and min from axis 1"
   ]
  },
  {
   "cell_type": "code",
   "execution_count": 10,
   "metadata": {},
   "outputs": [
    {
     "name": "stdout",
     "output_type": "stream",
     "text": [
      "[[34 43 73]\n",
      " [82 22 12]\n",
      " [53 94 66]]\n",
      "Printing amin Of Axis 1\n",
      "[34 12 53]\n",
      "Printing amax Of Axis 0\n",
      "[82 94 73]\n"
     ]
    }
   ],
   "source": [
    "import numpy\n",
    "sampleArray = numpy.array([[34,43,73],[82,22,12],[53,94,66]])\n",
    "w=sampleArray.reshape(3,3)\n",
    "print(w)\n",
    "\n",
    "minOfAxisOne = numpy.amin(sampleArray,1) \n",
    "print(\"Printing amin Of Axis 1\")\n",
    "print(minOfAxisOne)\n",
    "maxOfAxisOne = numpy.amax(sampleArray, 0) \n",
    "print(\"Printing amax Of Axis 0\")\n",
    "print(maxOfAxisOne)"
   ]
  },
  {
   "cell_type": "code",
   "execution_count": null,
   "metadata": {},
   "outputs": [],
   "source": []
  },
  {
   "cell_type": "markdown",
   "metadata": {},
   "source": [
    "Question 9: Following is the input NumPy array delete column two and insert following new column in its place."
   ]
  },
  {
   "cell_type": "code",
   "execution_count": 26,
   "metadata": {},
   "outputs": [
    {
     "name": "stdout",
     "output_type": "stream",
     "text": [
      "[[34 43 73]\n",
      " [82 22 12]\n",
      " [53 94 66]]\n",
      "newColumn is  [[10 10 10]]\n",
      "deleting column 2\n",
      "[[34 73]\n",
      " [82 12]\n",
      " [53 66]]\n",
      "insert column in axis 1\n",
      "[[34 10 73]\n",
      " [82 10 12]\n",
      " [53 10 66]]\n"
     ]
    }
   ],
   "source": [
    "import numpy\n",
    "sampleArray = numpy.array([[34,43,73],[82,22,12],[53,94,66]]) \n",
    "print(sampleArray)\n",
    "newColumn = numpy.array([[10,10,10]])\n",
    "print('newColumn is ',newColumn)\n",
    "print('deleting column 2')\n",
    "g=numpy.delete(sampleArray,1,axis=1)\n",
    "g=g.reshape(3,2)\n",
    "print(g)\n",
    "print('insert column in axis 1')\n",
    "sampleArray = numpy.insert(g, 1, newColumn, axis = 1) \n",
    "print (sampleArray)\n"
   ]
  },
  {
   "cell_type": "code",
   "execution_count": null,
   "metadata": {},
   "outputs": [],
   "source": []
  },
  {
   "cell_type": "markdown",
   "metadata": {},
   "source": [
    "Question 10: Create a two 2-D array and Plot it using matplotlib"
   ]
  },
  {
   "cell_type": "code",
   "execution_count": 3,
   "metadata": {},
   "outputs": [
    {
     "name": "stdout",
     "output_type": "stream",
     "text": [
      "Printing Original array\n",
      "[[34 43 73]\n",
      " [82 22 12]\n",
      " [53 94 66]]\n",
      "Array after deleting column 2 on axis 1\n",
      "[[34 73]\n",
      " [82 12]\n",
      " [53 66]]\n"
     ]
    }
   ],
   "source": [
    "import numpy\n",
    "import matplotlib.pyplot as plt\n",
    "\n",
    "print(\"Printing Original array\")\n",
    "sampleArray = numpy.array([[34,43,73],[82,22,12],[53,94,66]]) \n",
    "print (sampleArray)\n",
    "\n",
    "print(\"Array after deleting column 2 on axis 1\")\n",
    "sampleArray = numpy.delete(sampleArray , 1, axis = 1) \n",
    "print (sampleArray)\n",
    "\n"
   ]
  },
  {
   "cell_type": "code",
   "execution_count": 5,
   "metadata": {},
   "outputs": [
    {
     "data": {
      "image/png": "[encoded data removed]",
      "text/plain": [
       "<Figure size 432x288 with 1 Axes>"
      ]
     },
     "metadata": {
      "needs_background": "light"
     },
     "output_type": "display_data"
    }
   ],
   "source": [
    "\n",
    "\n",
    "# Plot the data\n",
    "plt.plot()\n",
    "\n",
    "# Add a legend\n",
    "plt.legend()\n",
    "\n",
    "# Show the plot\n",
    "plt.show()"
   ]
  },
  {
   "cell_type": "code",
   "execution_count": null,
   "metadata": {},
   "outputs": [],
   "source": []
  }
 ],
 "metadata": {
  "kernelspec": {
   "display_name": "Python 3",
   "language": "python",
   "name": "python3"
  },
  "language_info": {
   "codemirror_mode": {
    "name": "ipython",
    "version": 3
   },
   "file_extension": ".py",
   "mimetype": "text/x-python",
   "name": "python",
   "nbconvert_exporter": "python",
   "pygments_lexer": "ipython3",
   "version": "3.7.1"
  }
 },
 "nbformat": 4,
 "nbformat_minor": 2
}
